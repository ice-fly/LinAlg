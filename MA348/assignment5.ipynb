{
 "cells": [
  {
   "cell_type": "code",
   "execution_count": 92,
   "metadata": {},
   "outputs": [],
   "source": [
    "# Imports\n",
    "import scipy as sp\n",
    "import numpy as np\n",
    "import numpy.linalg as npl\n",
    "import scipy.linalg as spl"
   ]
  },
  {
   "cell_type": "markdown",
   "metadata": {},
   "source": [
    "W=int[Pdv]\n",
    "Work equals the integral of pressure with respect to volumne"
   ]
  },
  {
   "cell_type": "code",
   "execution_count": 93,
   "metadata": {},
   "outputs": [
    {
     "data": {
      "text/plain": [
       "[{'P': 336, 'V': 0.5},\n",
       " {'P': 294.4, 'V': 2},\n",
       " {'P': 266.4, 'V': 3},\n",
       " {'P': 260.8, 'V': 4},\n",
       " {'P': 260.5, 'V': 6},\n",
       " {'P': 249.6, 'V': 8},\n",
       " {'P': 193.6, 'V': 10},\n",
       " {'P': 165.6, 'V': 11}]"
      ]
     },
     "execution_count": 93,
     "metadata": {},
     "output_type": "execute_result"
    }
   ],
   "source": [
    "data=[{'P':336,'V':0.5},{'P':294.4,'V':2},{'P':266.4,'V':3},{'P':260.8,'V':4},{'P':260.5,'V':6},{'P':249.6,'V':8},{'P':193.6,'V':10},{'P':165.6,'V':11}]\n",
    "area=0 # init area\n",
    "data"
   ]
  },
  {
   "cell_type": "code",
   "execution_count": 94,
   "metadata": {},
   "outputs": [],
   "source": [
    "def trapz(p1,p2): # Trapazoidal rule\n",
    "    return np.multiply(np.divide(p2['V'] - p1['V'],2),(p2['P']+p1['P']))"
   ]
  },
  {
   "cell_type": "code",
   "execution_count": 95,
   "metadata": {},
   "outputs": [],
   "source": [
    "def simp_third(p1,p2,p3): # Simpsons 1/3 rule\n",
    "    return np.multiply((p3['V']-p1['V']),np.divide(p1['P']+np.multiply(4,p2['P'])+p3['P'],6))"
   ]
  },
  {
   "cell_type": "code",
   "execution_count": 96,
   "metadata": {},
   "outputs": [],
   "source": [
    "def simp_eigth(p1,p2,p3,p4): # Simpsons 3/8 rule\n",
    "    return np.multiply((p4['V']-p1['V']),np.divide(p1['P']+np.multiply(3,(p2['P']+p3['P']))+p4['P'],8))"
   ]
  },
  {
   "cell_type": "markdown",
   "metadata": {},
   "source": [
    "Work equals integral from 0.5 to 11 of PdV "
   ]
  },
  {
   "cell_type": "markdown",
   "metadata": {},
   "source": [
    "0,1 are trap\n",
    "1,2,3 simpsons 1/3\n",
    "3,5,6,7 sipsons 3/8\n",
    "7,8 trap"
   ]
  },
  {
   "cell_type": "code",
   "execution_count": 97,
   "metadata": {},
   "outputs": [
    {
     "name": "stdout",
     "output_type": "stream",
     "text": [
      "472.79999999999995\n"
     ]
    }
   ],
   "source": [
    "area+=trapz(data[0],data[1])\n",
    "print(area)"
   ]
  },
  {
   "cell_type": "markdown",
   "metadata": {},
   "source": [
    "1,2,3 simpsons 1/3"
   ]
  },
  {
   "cell_type": "code",
   "execution_count": 98,
   "metadata": {},
   "outputs": [
    {
     "name": "stdout",
     "output_type": "stream",
     "text": [
      "1013.0666666666666\n"
     ]
    }
   ],
   "source": [
    "area+=simp_third(data[1],data[2],data[3])\n",
    "print(area)"
   ]
  },
  {
   "cell_type": "markdown",
   "metadata": {},
   "source": [
    "3,4,5,6 sipsons 3/8"
   ]
  },
  {
   "cell_type": "code",
   "execution_count": 99,
   "metadata": {},
   "outputs": [
    {
     "name": "stdout",
     "output_type": "stream",
     "text": [
      "2501.5916666666667\n"
     ]
    }
   ],
   "source": [
    "area+=simp_eigth(data[3],data[4],data[5],data[6])\n",
    "print(area)"
   ]
  },
  {
   "cell_type": "markdown",
   "metadata": {},
   "source": [
    "6,7 trap"
   ]
  },
  {
   "cell_type": "code",
   "execution_count": 100,
   "metadata": {},
   "outputs": [
    {
     "name": "stdout",
     "output_type": "stream",
     "text": [
      "2681.1916666666666\n"
     ]
    }
   ],
   "source": [
    "area+=trapz(data[6],data[7])\n",
    "print(area)"
   ]
  },
  {
   "cell_type": "markdown",
   "metadata": {},
   "source": [
    "Summed all together"
   ]
  },
  {
   "cell_type": "code",
   "execution_count": 103,
   "metadata": {},
   "outputs": [
    {
     "name": "stdout",
     "output_type": "stream",
     "text": [
      "Total work:\t 2681.1916666666666 kJ\n"
     ]
    }
   ],
   "source": [
    "print(\"Total work:\\t\",area,\"kJ\")"
   ]
  }
 ],
 "metadata": {
  "interpreter": {
   "hash": "faba49a0cc2c60039239bd35f82bd09c3dd1c941d1287a74b26df8649ef9e183"
  },
  "kernelspec": {
   "display_name": "Python 3.10.3 64-bit",
   "language": "python",
   "name": "python3"
  },
  "language_info": {
   "codemirror_mode": {
    "name": "ipython",
    "version": 3
   },
   "file_extension": ".py",
   "mimetype": "text/x-python",
   "name": "python",
   "nbconvert_exporter": "python",
   "pygments_lexer": "ipython3",
   "version": "3.10.3"
  },
  "orig_nbformat": 4
 },
 "nbformat": 4,
 "nbformat_minor": 2
}
