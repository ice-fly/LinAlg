{
 "cells": [
  {
   "cell_type": "code",
   "execution_count": null,
   "metadata": {},
   "outputs": [],
   "source": [
    "# Imports\n",
    "import scipy as sp\n",
    "import numpy as np\n",
    "import numpy.linalg as npl\n",
    "import scipy.linalg as spl"
   ]
  },
  {
   "cell_type": "markdown",
   "metadata": {},
   "source": [
    "W=int[Pdv]\n",
    "Work equals the integral of pressure with respect to volumne"
   ]
  },
  {
   "cell_type": "code",
   "execution_count": 3,
   "metadata": {},
   "outputs": [
    {
     "data": {
      "text/plain": [
       "[{'P': 336, 'V': 0.5},\n",
       " {'P': 294.4, 'V': 2},\n",
       " {'P': 266.4, 'V': 3},\n",
       " {'P': 260.8, 'V': 4},\n",
       " {'P': 260.5, 'V': 6},\n",
       " {'P': 249.6, 'V': 8},\n",
       " {'P': 193.6, 'V': 10},\n",
       " {'P': 165.6, 'V': 11}]"
      ]
     },
     "execution_count": 3,
     "metadata": {},
     "output_type": "execute_result"
    }
   ],
   "source": [
    "data=[{'P':336,'V':0.5},{'P':294.4,'V':2},{'P':266.4,'V':3},{'P':260.8,'V':4},{'P':260.5,'V':6},{'P':249.6,'V':8},{'P':193.6,'V':10},{'P':165.6,'V':11}]\n",
    "data"
   ]
  },
  {
   "cell_type": "markdown",
   "metadata": {},
   "source": [
    "Work equals integral from 0.5 to 11 of PdV "
   ]
  },
  {
   "cell_type": "markdown",
   "metadata": {},
   "source": [
    "0,1 are trap\n",
    "1,2,3 simpsons 1/3\n",
    "3,5,6,7 sipsons 3/8\n",
    "7,8 trap"
   ]
  },
  {
   "cell_type": "code",
   "execution_count": null,
   "metadata": {},
   "outputs": [],
   "source": []
  },
  {
   "cell_type": "markdown",
   "metadata": {},
   "source": [
    "1,2,3 simpsons 1/3"
   ]
  },
  {
   "cell_type": "code",
   "execution_count": null,
   "metadata": {},
   "outputs": [],
   "source": []
  },
  {
   "cell_type": "markdown",
   "metadata": {},
   "source": [
    "3,5,6,7 sipsons 3/8"
   ]
  },
  {
   "cell_type": "code",
   "execution_count": null,
   "metadata": {},
   "outputs": [],
   "source": []
  },
  {
   "cell_type": "markdown",
   "metadata": {},
   "source": [
    "7,8 trap"
   ]
  },
  {
   "cell_type": "code",
   "execution_count": null,
   "metadata": {},
   "outputs": [],
   "source": []
  },
  {
   "cell_type": "markdown",
   "metadata": {},
   "source": [
    "Summed all together"
   ]
  },
  {
   "cell_type": "code",
   "execution_count": null,
   "metadata": {},
   "outputs": [],
   "source": []
  }
 ],
 "metadata": {
  "interpreter": {
   "hash": "faba49a0cc2c60039239bd35f82bd09c3dd1c941d1287a74b26df8649ef9e183"
  },
  "kernelspec": {
   "display_name": "Python 3.10.3 64-bit",
   "language": "python",
   "name": "python3"
  },
  "language_info": {
   "codemirror_mode": {
    "name": "ipython",
    "version": 3
   },
   "file_extension": ".py",
   "mimetype": "text/x-python",
   "name": "python",
   "nbconvert_exporter": "python",
   "pygments_lexer": "ipython3",
   "version": "3.10.3"
  },
  "orig_nbformat": 4
 },
 "nbformat": 4,
 "nbformat_minor": 2
}
