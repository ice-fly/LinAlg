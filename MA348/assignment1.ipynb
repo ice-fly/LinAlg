{
 "cells": [
  {
   "cell_type": "code",
   "execution_count": 1,
   "metadata": {},
   "outputs": [],
   "source": [
    "# Imports\n",
    "import scipy as sp\n",
    "import numpy as np\n",
    "import numpy.linalg as npl\n",
    "import scipy.linalg as spl"
   ]
  },
  {
   "cell_type": "code",
   "execution_count": 2,
   "metadata": {},
   "outputs": [
    {
     "name": "stdout",
     "output_type": "stream",
     "text": [
      "1 1\n",
      "U isn't bad: 1.09868411346781\n",
      "V is worse: 0.45508986056222733\n"
     ]
    }
   ],
   "source": [
    "x = 1\n",
    "y = 1\n",
    "\n",
    "print(x,y)\n",
    "\n",
    "u = np.abs(np.sqrt(np.divide(x+np.sqrt(np.square(x)+np.square(y)),2)))\n",
    "v = np.divide(y,np.multiply(2,u))\n",
    "print(\"U isn't bad:\",u)\n",
    "print(\"V is worse:\",v)"
   ]
  },
  {
   "cell_type": "code",
   "execution_count": 3,
   "metadata": {},
   "outputs": [
    {
     "name": "stdout",
     "output_type": "stream",
     "text": [
      "100 1\n",
      "U isn't bad: 10.000124996093955\n",
      "V is worse: 0.049999375027342134\n"
     ]
    }
   ],
   "source": [
    "x = 100\n",
    "y = 1\n",
    "\n",
    "print(x,y)\n",
    "\n",
    "u = np.abs(np.sqrt(np.divide(x+np.sqrt(np.square(x)+np.square(y)),2)))\n",
    "v = np.divide(y,np.multiply(2,u))\n",
    "print(\"U isn't bad:\",u)\n",
    "print(\"V is worse:\",v)"
   ]
  },
  {
   "cell_type": "code",
   "execution_count": 4,
   "metadata": {},
   "outputs": [
    {
     "name": "stdout",
     "output_type": "stream",
     "text": [
      "-1 1\n",
      "U is worse: 0.4550898605622274\n",
      "V isn't bad: 1.0986841134678098\n"
     ]
    }
   ],
   "source": [
    "x = -1\n",
    "y = 1\n",
    "\n",
    "print(x,y)\n",
    "\n",
    "u = np.abs(np.sqrt(np.divide(x+np.sqrt(np.square(x)+np.square(y)),2)))\n",
    "v = np.divide(y,np.multiply(2,u))\n",
    "print(\"U is worse:\",u)\n",
    "print(\"V isn't bad:\",v)"
   ]
  },
  {
   "cell_type": "code",
   "execution_count": null,
   "metadata": {},
   "outputs": [],
   "source": [
    "x = -100\n",
    "y = 1\n",
    "\n",
    "print(x,y)\n",
    "\n",
    "u = np.abs(np.sqrt(np.divide(x+np.sqrt(np.square(x)+np.square(y)),2)))\n",
    "v = np.divide(y,np.multiply(2,u))\n",
    "print(\"U is worse:\",u)\n",
    "print(\"V isn't bad:\",v)"
   ]
  }
 ],
 "metadata": {
  "interpreter": {
   "hash": "4ebf9622ac64b0daabb1e9551a4e5b2e753a19601a4551f1956fa129dce591ba"
  },
  "kernelspec": {
   "display_name": "Python 3.9.10 64-bit (windows store)",
   "language": "python",
   "name": "python3"
  },
  "language_info": {
   "codemirror_mode": {
    "name": "ipython",
    "version": 3
   },
   "file_extension": ".py",
   "mimetype": "text/x-python",
   "name": "python",
   "nbconvert_exporter": "python",
   "pygments_lexer": "ipython3",
   "version": "3.9.10"
  },
  "orig_nbformat": 4
 },
 "nbformat": 4,
 "nbformat_minor": 2
}
