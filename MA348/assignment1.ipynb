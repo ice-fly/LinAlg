{
 "cells": [
  {
   "cell_type": "code",
   "execution_count": 30,
   "metadata": {},
   "outputs": [],
   "source": [
    "# Imports\n",
    "import scipy as sp\n",
    "import numpy as np\n",
    "import numpy.linalg as npl\n",
    "import scipy.linalg as spl"
   ]
  },
  {
   "cell_type": "markdown",
   "metadata": {},
   "source": [
    "# 1a)"
   ]
  },
  {
   "cell_type": "code",
   "execution_count": 31,
   "metadata": {},
   "outputs": [
    {
     "name": "stdout",
     "output_type": "stream",
     "text": [
      "1 1\n",
      "U isn't bad:\t 1.09868411346781\n",
      "V is worse:\t 0.45508986056222733\n"
     ]
    }
   ],
   "source": [
    "x = 1\n",
    "y = 1\n",
    "\n",
    "print(x,y)\n",
    "\n",
    "u = np.abs(np.sqrt(np.divide(x+np.sqrt(np.square(x)+np.square(y)),2)))\n",
    "v = np.divide(y,np.multiply(2,u))\n",
    "print(\"U isn't bad:\\t\",u)\n",
    "print(\"V is worse:\\t\",v)"
   ]
  },
  {
   "cell_type": "code",
   "execution_count": 32,
   "metadata": {},
   "outputs": [
    {
     "name": "stdout",
     "output_type": "stream",
     "text": [
      "100 1\n",
      "U isn't bad:\t 10.000124996093955\n",
      "V is worse:\t 0.049999375027342134\n"
     ]
    }
   ],
   "source": [
    "x = 100\n",
    "y = 1\n",
    "\n",
    "print(x,y)\n",
    "\n",
    "u = np.abs(np.sqrt(np.divide(x+np.sqrt(np.square(x)+np.square(y)),2)))\n",
    "v = np.divide(y,np.multiply(2,u))\n",
    "print(\"U isn't bad:\\t\",u)\n",
    "print(\"V is worse:\\t\",v)"
   ]
  },
  {
   "cell_type": "code",
   "execution_count": 33,
   "metadata": {},
   "outputs": [
    {
     "name": "stdout",
     "output_type": "stream",
     "text": [
      "-1 1\n",
      "U is worse:\t 0.4550898605622274\n",
      "V isn't bad:\t 1.0986841134678098\n"
     ]
    }
   ],
   "source": [
    "x = -1\n",
    "y = 1\n",
    "\n",
    "print(x,y)\n",
    "\n",
    "u = np.abs(np.sqrt(np.divide(x+np.sqrt(np.square(x)+np.square(y)),2)))\n",
    "v = np.divide(y,np.multiply(2,u))\n",
    "print(\"U is worse:\\t\",u)\n",
    "print(\"V isn't bad:\\t\",v)"
   ]
  },
  {
   "cell_type": "code",
   "execution_count": 34,
   "metadata": {},
   "outputs": [
    {
     "name": "stdout",
     "output_type": "stream",
     "text": [
      "-100 1\n",
      "U is worse:\t 0.04999937502733681\n",
      "V isn't bad:\t 10.000124996095021\n"
     ]
    }
   ],
   "source": [
    "x = -100\n",
    "y = 1\n",
    "\n",
    "print(x,y)\n",
    "\n",
    "u = np.abs(np.sqrt(np.divide(x+np.sqrt(np.square(x)+np.square(y)),2)))\n",
    "v = np.divide(y,np.multiply(2,u))\n",
    "print(\"U is worse:\\t\",u)\n",
    "print(\"V isn't bad:\\t\",v)"
   ]
  },
  {
   "cell_type": "markdown",
   "metadata": {},
   "source": [
    "# 2a&b)"
   ]
  },
  {
   "cell_type": "code",
   "execution_count": 35,
   "metadata": {},
   "outputs": [
    {
     "name": "stdout",
     "output_type": "stream",
     "text": [
      "2a has correct answer:\t 1.001\n",
      "2b method is worse:\t 1.0010000000000003\n"
     ]
    }
   ],
   "source": [
    "x=1.1\n",
    "u=np.power(x,3)-np.multiply(3,np.power(x,2))+np.multiply(3,x)\n",
    "v=np.multiply(np.multiply((x-3),x)+3,x)\n",
    "print(\"2a has correct answer:\\t\",u)\n",
    "print(\"2b method is worse:\\t\",v)"
   ]
  },
  {
   "cell_type": "markdown",
   "metadata": {},
   "source": [
    "# 2C)"
   ]
  },
  {
   "cell_type": "code",
   "execution_count": 36,
   "metadata": {},
   "outputs": [
    {
     "name": "stdout",
     "output_type": "stream",
     "text": [
      "relative error:\t 4.436455642857769e-16\n"
     ]
    }
   ],
   "source": [
    "print(\"relative error:\\t\",np.divide((v-u),u))"
   ]
  },
  {
   "cell_type": "markdown",
   "metadata": {},
   "source": [
    "# 3\n",
    "\n",
    "refrence:\n",
    "https://en.wikipedia.org/wiki/Trigonometric_functions#Power_series_expansion"
   ]
  },
  {
   "cell_type": "code",
   "execution_count": 48,
   "metadata": {},
   "outputs": [
    {
     "name": "stdout",
     "output_type": "stream",
     "text": [
      "Result:\t [1.00000000e+00 1.00000000e+00 1.00000000e+00 ... 2.33116353e-07\n",
      " 1.33116359e-07 3.31163645e-08]  achieved after  7 terms\n"
     ]
    }
   ],
   "source": [
    "x=np.arange(0, np.divide(np.pi,2), 1e-6) # get the range in sufficiently small steps to be equivalent to continuous\n",
    "answer=np.cos(x) # Calculate answers\n",
    "n=0 # Itterator\n",
    "result=0 # Storage for resultant\n",
    "#print(answer,result,np.isclose(answer,result,rtol=1e-06).all())\n",
    "while not np.isclose(answer,result,rtol=1e-6).all():\n",
    "    result+=np.multiply(np.divide(np.power(-1,n),np.math.factorial(np.multiply(2,n))),np.power(x,np.multiply(2,n)))\n",
    "    n+=1\n",
    "print(\"Result:\\t\",result,\" achieved after \",n,\"terms\")\n"
   ]
  }
 ],
 "metadata": {
  "interpreter": {
   "hash": "4ebf9622ac64b0daabb1e9551a4e5b2e753a19601a4551f1956fa129dce591ba"
  },
  "kernelspec": {
   "display_name": "Python 3.9.10 64-bit (windows store)",
   "language": "python",
   "name": "python3"
  },
  "language_info": {
   "codemirror_mode": {
    "name": "ipython",
    "version": 3
   },
   "file_extension": ".py",
   "mimetype": "text/x-python",
   "name": "python",
   "nbconvert_exporter": "python",
   "pygments_lexer": "ipython3",
   "version": "3.10.3"
  },
  "orig_nbformat": 4
 },
 "nbformat": 4,
 "nbformat_minor": 2
}
