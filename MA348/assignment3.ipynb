{
 "cells": [
  {
   "cell_type": "code",
   "execution_count": 97,
   "metadata": {},
   "outputs": [],
   "source": [
    "# Imports\n",
    "import scipy as sp\n",
    "import numpy as np\n",
    "import random\n",
    "import numpy.linalg as npl\n",
    "import scipy.linalg as spl"
   ]
  },
  {
   "cell_type": "markdown",
   "metadata": {},
   "source": [
    "# 1a)\n",
    "https://gist.github.com/cbellei/8ab3ab8551b8dfc8b081c518ccd9ada9"
   ]
  },
  {
   "cell_type": "code",
   "execution_count": 107,
   "metadata": {},
   "outputs": [],
   "source": [
    "def TDMASolve(a, b, c, d):\n",
    "    n = len(a)\n",
    "    ac, bc, cc, dc = map(np.array, (a, b, c, d))\n",
    "    xc = []\n",
    "    for j in range(1, n):\n",
    "        if(bc[j - 1] == 0):\n",
    "            ier = 1\n",
    "            return\n",
    "        ac[j] = ac[j]/bc[j-1]\n",
    "        bc[j] = bc[j] - ac[j]*cc[j-1]\n",
    "    if(b[n-1] == 0):\n",
    "        ier = 1\n",
    "        return\n",
    "    for j in range(1, n):\n",
    "        dc[j] = dc[j] - ac[j]*dc[j-1]\n",
    "    dc[n-1] = dc[n-1]/bc[n-1]\n",
    "    for j in range(n-2, -1, -1):\n",
    "        dc[j] = (dc[j] - cc[j]*dc[j+1])/bc[j]\n",
    "    return dc"
   ]
  },
  {
   "cell_type": "code",
   "execution_count": 99,
   "metadata": {},
   "outputs": [],
   "source": [
    "n=3"
   ]
  },
  {
   "cell_type": "code",
   "execution_count": 108,
   "metadata": {},
   "outputs": [
    {
     "name": "stdout",
     "output_type": "stream",
     "text": [
      "[ 10 -10  10]\n"
     ]
    }
   ],
   "source": [
    "# Make Tridiagonal\n",
    "a = np.array([2,3,0])\n",
    "b = np.array([1,2,3])\n",
    "c = np.array([0,1,2])\n",
    "f = np.array([10,20,30])\n",
    "A = np.vstack((a,b,c))\n",
    "tdma=TDMASolve(a,b,c,f)\n",
    "print(tdma)"
   ]
  },
  {
   "cell_type": "markdown",
   "metadata": {},
   "source": [
    "# 1b)\n",
    "https://www.codesansar.com/numerical-methods/python-program-gauss-seidel-iteration-method.htm"
   ]
  },
  {
   "cell_type": "code",
   "execution_count": null,
   "metadata": {},
   "outputs": [],
   "source": [
    "def GaussSeidel(A, b, tolerance=1e-4):    \n",
    "    x = np.zeros_like(b, dtype=np.single)\n",
    "    x_old  = x.copy()\n",
    "    \n",
    "    #Loop over rows\n",
    "    for i in range(A.shape[0]):\n",
    "        x[i] = (b[i] - np.dot(A[i,:i], x[:i]) - np.dot(A[i,(i+1):], x_old[(i+1):])) / A[i ,i]\n",
    "    #Iterate\n",
    "    while npl.norm(x - x_old)/npl.norm(x) > tolerance:\n",
    "        x_old  = x.copy()\n",
    "        \n",
    "        #Loop over rows\n",
    "        for i in range(A.shape[0]):\n",
    "            x[i] = (b[i] - np.dot(A[i,:i], x[:i]) - np.dot(A[i,(i+1):], x_old[(i+1):])) / A[i ,i]\n",
    "            \n",
    "    return x"
   ]
  },
  {
   "cell_type": "code",
   "execution_count": 123,
   "metadata": {},
   "outputs": [],
   "source": [
    "gs=GaussSeidel(A,f)\n",
    "print(gs)"
   ]
  },
  {
   "cell_type": "markdown",
   "metadata": {},
   "source": [
    "# 1c)"
   ]
  },
  {
   "cell_type": "code",
   "execution_count": 120,
   "metadata": {},
   "outputs": [
    {
     "name": "stdout",
     "output_type": "stream",
     "text": [
      "relative error:\t [1.37214455e+18 1.37214455e+18 6.86072276e+17]\n",
      "Really big & really bad\n",
      " Thomas algo is wayyyyy better\n"
     ]
    }
   ],
   "source": [
    "print(\"relative error:\\t\",np.divide((gs-tdma),tdma))\n",
    "\n",
    "print('Really big & really bad\\n','Thomas algo is wayyyyy better')"
   ]
  }
 ],
 "metadata": {
  "interpreter": {
   "hash": "faba49a0cc2c60039239bd35f82bd09c3dd1c941d1287a74b26df8649ef9e183"
  },
  "kernelspec": {
   "display_name": "Python 3.10.3 64-bit",
   "language": "python",
   "name": "python3"
  },
  "language_info": {
   "codemirror_mode": {
    "name": "ipython",
    "version": 3
   },
   "file_extension": ".py",
   "mimetype": "text/x-python",
   "name": "python",
   "nbconvert_exporter": "python",
   "pygments_lexer": "ipython3",
   "version": "3.10.3"
  },
  "orig_nbformat": 4
 },
 "nbformat": 4,
 "nbformat_minor": 2
}
